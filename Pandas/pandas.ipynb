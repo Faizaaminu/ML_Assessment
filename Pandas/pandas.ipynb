{
 "cells": [
  {
   "cell_type": "markdown",
   "id": "f644baf3",
   "metadata": {},
   "source": [
    "# Pandas Excercises"
   ]
  },
  {
   "cell_type": "markdown",
   "id": "50857c5d",
   "metadata": {},
   "source": [
    "## Importing Pandas and Numpy"
   ]
  },
  {
   "cell_type": "code",
   "execution_count": 3,
   "id": "84a989db",
   "metadata": {},
   "outputs": [],
   "source": [
    "import pandas as pd\n",
    "import numpy as np"
   ]
  },
  {
   "cell_type": "markdown",
   "id": "9e4bcb6f",
   "metadata": {},
   "source": [
    "## Creating a Pandas Series"
   ]
  },
  {
   "cell_type": "markdown",
   "id": "47fd08a3",
   "metadata": {},
   "source": [
    "<bra> Series in pandas are similar ndarray<bra>"
   ]
  },
  {
   "cell_type": "code",
   "execution_count": null,
   "id": "851c89fc",
   "metadata": {},
   "outputs": [
    {
     "data": {
      "text/plain": [
       "a    2\n",
       "b    3\n",
       "c    5\n",
       "d    4\n",
       "dtype: int64"
      ]
     },
     "execution_count": 4,
     "metadata": {},
     "output_type": "execute_result"
    }
   ],
   "source": [
    "my_series=pd.Series(data =[2,3,5,4],     #Data\n",
    "                    index=['a','b','c','d'])   #Index\n",
    "my_series"
   ]
  },
  {
   "cell_type": "code",
   "execution_count": 6,
   "id": "be78b30c",
   "metadata": {},
   "outputs": [
    {
     "data": {
      "text/plain": [
       "np.int64(2)"
      ]
     },
     "execution_count": 6,
     "metadata": {},
     "output_type": "execute_result"
    }
   ],
   "source": [
    "my_series['a']"
   ]
  },
  {
   "cell_type": "code",
   "execution_count": null,
   "id": "2413b813",
   "metadata": {},
   "outputs": [
    {
     "data": {
      "text/plain": [
       "x    2\n",
       "a    5\n",
       "b    4\n",
       "c    8\n",
       "dtype: int64"
      ]
     },
     "execution_count": 5,
     "metadata": {},
     "output_type": "execute_result"
    }
   ],
   "source": [
    "## Create  a series from dictionary\n",
    "my_dict={'x':2,'a':5,'b':4,'c':8}\n",
    "my_series2=pd.Series(my_dict)\n",
    "my_series2"
   ]
  },
  {
   "cell_type": "code",
   "execution_count": 9,
   "id": "6769f119",
   "metadata": {},
   "outputs": [
    {
     "data": {
      "text/plain": [
       "np.int64(8)"
      ]
     },
     "execution_count": 9,
     "metadata": {},
     "output_type": "execute_result"
    }
   ],
   "source": [
    "my_series2['c']"
   ]
  },
  {
   "cell_type": "code",
   "execution_count": 10,
   "id": "4340834a",
   "metadata": {},
   "outputs": [
    {
     "data": {
      "text/plain": [
       "a     7.0\n",
       "b     7.0\n",
       "c    13.0\n",
       "d     NaN\n",
       "x     NaN\n",
       "dtype: float64"
      ]
     },
     "execution_count": 10,
     "metadata": {},
     "output_type": "execute_result"
    }
   ],
   "source": [
    "my_series+my_series2"
   ]
  },
  {
   "cell_type": "code",
   "execution_count": 11,
   "id": "b889d10d",
   "metadata": {},
   "outputs": [
    {
     "data": {
      "text/plain": [
       "np.float64(3.5)"
      ]
     },
     "execution_count": 11,
     "metadata": {},
     "output_type": "execute_result"
    }
   ],
   "source": [
    "np.mean(my_series)"
   ]
  },
  {
   "cell_type": "code",
   "execution_count": 5,
   "id": "21dfecda",
   "metadata": {},
   "outputs": [
    {
     "data": {
      "text/html": [
       "<div>\n",
       "<style scoped>\n",
       "    .dataframe tbody tr th:only-of-type {\n",
       "        vertical-align: middle;\n",
       "    }\n",
       "\n",
       "    .dataframe tbody tr th {\n",
       "        vertical-align: top;\n",
       "    }\n",
       "\n",
       "    .dataframe thead th {\n",
       "        text-align: right;\n",
       "    }\n",
       "</style>\n",
       "<table border=\"1\" class=\"dataframe\">\n",
       "  <thead>\n",
       "    <tr style=\"text-align: right;\">\n",
       "      <th></th>\n",
       "      <th>A</th>\n",
       "      <th>B</th>\n",
       "      <th>C</th>\n",
       "    </tr>\n",
       "  </thead>\n",
       "  <tbody>\n",
       "    <tr>\n",
       "      <th>0</th>\n",
       "      <td>0.676539</td>\n",
       "      <td>2.308380</td>\n",
       "      <td>-0.248309</td>\n",
       "    </tr>\n",
       "    <tr>\n",
       "      <th>1</th>\n",
       "      <td>0.899042</td>\n",
       "      <td>0.125362</td>\n",
       "      <td>-0.528253</td>\n",
       "    </tr>\n",
       "    <tr>\n",
       "      <th>2</th>\n",
       "      <td>-1.237708</td>\n",
       "      <td>-0.977969</td>\n",
       "      <td>-1.114167</td>\n",
       "    </tr>\n",
       "    <tr>\n",
       "      <th>3</th>\n",
       "      <td>0.036107</td>\n",
       "      <td>-0.918798</td>\n",
       "      <td>0.665680</td>\n",
       "    </tr>\n",
       "    <tr>\n",
       "      <th>4</th>\n",
       "      <td>-0.509151</td>\n",
       "      <td>-1.278052</td>\n",
       "      <td>-1.120922</td>\n",
       "    </tr>\n",
       "  </tbody>\n",
       "</table>\n",
       "</div>"
      ],
      "text/plain": [
       "          A         B         C\n",
       "0  0.676539  2.308380 -0.248309\n",
       "1  0.899042  0.125362 -0.528253\n",
       "2 -1.237708 -0.977969 -1.114167\n",
       "3  0.036107 -0.918798  0.665680\n",
       "4 -0.509151 -1.278052 -1.120922"
      ]
     },
     "execution_count": 5,
     "metadata": {},
     "output_type": "execute_result"
    }
   ],
   "source": [
    "np_series=np.random.randn(5,3)\n",
    "df=pd.DataFrame(np_series, columns=[\"A\",\"B\",\"C\"])\n",
    "df"
   ]
  },
  {
   "cell_type": "markdown",
   "id": "9505b8da",
   "metadata": {},
   "source": [
    "## Creating DataFrame"
   ]
  },
  {
   "cell_type": "markdown",
   "id": "13b09d41",
   "metadata": {},
   "source": [
    "> Dataframe is a 2D table with labeled columns that can hold different types of data <br>"
   ]
  },
  {
   "cell_type": "markdown",
   "id": "e151d81b",
   "metadata": {},
   "source": [
    "<br> A dataFrame behaves like a dictionary of Series objects that each have the same length and index<bra>"
   ]
  },
  {
   "cell_type": "code",
   "execution_count": 19,
   "id": "4c637551",
   "metadata": {},
   "outputs": [
    {
     "data": {
      "text/html": [
       "<div>\n",
       "<style scoped>\n",
       "    .dataframe tbody tr th:only-of-type {\n",
       "        vertical-align: middle;\n",
       "    }\n",
       "\n",
       "    .dataframe tbody tr th {\n",
       "        vertical-align: top;\n",
       "    }\n",
       "\n",
       "    .dataframe thead th {\n",
       "        text-align: right;\n",
       "    }\n",
       "</style>\n",
       "<table border=\"1\" class=\"dataframe\">\n",
       "  <thead>\n",
       "    <tr style=\"text-align: right;\">\n",
       "      <th></th>\n",
       "      <th>Name</th>\n",
       "      <th>Age</th>\n",
       "      <th>Weight</th>\n",
       "      <th>Height</th>\n",
       "      <th>Siblings</th>\n",
       "    </tr>\n",
       "  </thead>\n",
       "  <tbody>\n",
       "    <tr>\n",
       "      <th>0</th>\n",
       "      <td>Joe</td>\n",
       "      <td>10</td>\n",
       "      <td>75</td>\n",
       "      <td>4.5</td>\n",
       "      <td>1</td>\n",
       "    </tr>\n",
       "    <tr>\n",
       "      <th>1</th>\n",
       "      <td>Bob</td>\n",
       "      <td>15</td>\n",
       "      <td>123</td>\n",
       "      <td>5.0</td>\n",
       "      <td>1</td>\n",
       "    </tr>\n",
       "    <tr>\n",
       "      <th>2</th>\n",
       "      <td>Mary</td>\n",
       "      <td>20</td>\n",
       "      <td>239</td>\n",
       "      <td>6.1</td>\n",
       "      <td>1</td>\n",
       "    </tr>\n",
       "  </tbody>\n",
       "</table>\n",
       "</div>"
      ],
      "text/plain": [
       "   Name  Age  Weight  Height  Siblings\n",
       "0   Joe   10      75     4.5         1\n",
       "1   Bob   15     123     5.0         1\n",
       "2  Mary   20     239     6.1         1"
      ]
     },
     "execution_count": 19,
     "metadata": {},
     "output_type": "execute_result"
    }
   ],
   "source": [
    "## Create a Dictionary with different data types as values\n",
    "data={\n",
    "    \"Name\":[\"Joe\",\"Bob\",\"Mary\"],\n",
    "    \"Age\":np.array([10,15,20]),\n",
    "    \"Weight\":(75,123,239),\n",
    "    \"Height\":[4.5,5,6.1],\n",
    "                       \n",
    "    \"Siblings\":1\n",
    "    }\n",
    "df=pd.DataFrame(data) #convert the dict to DataFrame\n",
    "df"
   ]
  },
  {
   "cell_type": "code",
   "execution_count": 23,
   "id": "e9b717d2",
   "metadata": {},
   "outputs": [
    {
     "data": {
      "text/plain": [
       "0    10\n",
       "1    15\n",
       "2    20\n",
       "Name: Age, dtype: int64"
      ]
     },
     "execution_count": 23,
     "metadata": {},
     "output_type": "execute_result"
    }
   ],
   "source": [
    "df['Age']  #get column by name"
   ]
  },
  {
   "cell_type": "markdown",
   "id": "0e2c44fe",
   "metadata": {},
   "source": [
    "### Adding Columns"
   ]
  },
  {
   "cell_type": "code",
   "execution_count": 20,
   "id": "7e203a68",
   "metadata": {},
   "outputs": [
    {
     "data": {
      "text/html": [
       "<div>\n",
       "<style scoped>\n",
       "    .dataframe tbody tr th:only-of-type {\n",
       "        vertical-align: middle;\n",
       "    }\n",
       "\n",
       "    .dataframe tbody tr th {\n",
       "        vertical-align: top;\n",
       "    }\n",
       "\n",
       "    .dataframe thead th {\n",
       "        text-align: right;\n",
       "    }\n",
       "</style>\n",
       "<table border=\"1\" class=\"dataframe\">\n",
       "  <thead>\n",
       "    <tr style=\"text-align: right;\">\n",
       "      <th></th>\n",
       "      <th>Name</th>\n",
       "      <th>Age</th>\n",
       "      <th>Weight</th>\n",
       "      <th>Height</th>\n",
       "      <th>Siblings</th>\n",
       "      <th>Gender</th>\n",
       "    </tr>\n",
       "  </thead>\n",
       "  <tbody>\n",
       "    <tr>\n",
       "      <th>0</th>\n",
       "      <td>Joe</td>\n",
       "      <td>10</td>\n",
       "      <td>75</td>\n",
       "      <td>4.5</td>\n",
       "      <td>1</td>\n",
       "      <td>M</td>\n",
       "    </tr>\n",
       "    <tr>\n",
       "      <th>1</th>\n",
       "      <td>Bob</td>\n",
       "      <td>15</td>\n",
       "      <td>123</td>\n",
       "      <td>5.0</td>\n",
       "      <td>1</td>\n",
       "      <td>M</td>\n",
       "    </tr>\n",
       "    <tr>\n",
       "      <th>2</th>\n",
       "      <td>Mary</td>\n",
       "      <td>20</td>\n",
       "      <td>239</td>\n",
       "      <td>6.1</td>\n",
       "      <td>1</td>\n",
       "      <td>F</td>\n",
       "    </tr>\n",
       "  </tbody>\n",
       "</table>\n",
       "</div>"
      ],
      "text/plain": [
       "   Name  Age  Weight  Height  Siblings Gender\n",
       "0   Joe   10      75     4.5         1      M\n",
       "1   Bob   15     123     5.0         1      M\n",
       "2  Mary   20     239     6.1         1      F"
      ]
     },
     "execution_count": 20,
     "metadata": {},
     "output_type": "execute_result"
    }
   ],
   "source": [
    "#ADD a new column\n",
    "df[\"Gender\"]=[\"M\",\"M\",\"F\"]\n",
    "df"
   ]
  },
  {
   "cell_type": "markdown",
   "id": "c3805e3b",
   "metadata": {},
   "source": [
    "### Accessing Columns and Rows"
   ]
  },
  {
   "cell_type": "code",
   "execution_count": 15,
   "id": "23a9f846",
   "metadata": {},
   "outputs": [
    {
     "data": {
      "text/plain": [
       "Name        Joe\n",
       "Age          10\n",
       "Weight       75\n",
       "Height      4.5\n",
       "Siblings      1\n",
       "Name: 0, dtype: object"
      ]
     },
     "execution_count": 15,
     "metadata": {},
     "output_type": "execute_result"
    }
   ],
   "source": [
    "df.loc[0]"
   ]
  },
  {
   "cell_type": "code",
   "execution_count": 16,
   "id": "61a6882a",
   "metadata": {},
   "outputs": [
    {
     "name": "stdout",
     "output_type": "stream",
     "text": [
      "   Name  Age  Weight  Height  Siblings\n",
      "1   Bob   15     123     5.0         1\n",
      "2  Mary   20     239     6.1         1\n"
     ]
    }
   ],
   "source": [
    "print(df.iloc[1:3])\n"
   ]
  },
  {
   "cell_type": "markdown",
   "id": "2224f647",
   "metadata": {},
   "source": [
    "### Filtering Data"
   ]
  },
  {
   "cell_type": "code",
   "execution_count": 45,
   "id": "1d4ff0d4",
   "metadata": {},
   "outputs": [
    {
     "data": {
      "text/html": [
       "<div>\n",
       "<style scoped>\n",
       "    .dataframe tbody tr th:only-of-type {\n",
       "        vertical-align: middle;\n",
       "    }\n",
       "\n",
       "    .dataframe tbody tr th {\n",
       "        vertical-align: top;\n",
       "    }\n",
       "\n",
       "    .dataframe thead th {\n",
       "        text-align: right;\n",
       "    }\n",
       "</style>\n",
       "<table border=\"1\" class=\"dataframe\">\n",
       "  <thead>\n",
       "    <tr style=\"text-align: right;\">\n",
       "      <th></th>\n",
       "      <th>Name</th>\n",
       "      <th>Age</th>\n",
       "      <th>Weight</th>\n",
       "      <th>Height</th>\n",
       "      <th>Siblings</th>\n",
       "      <th>Gender</th>\n",
       "    </tr>\n",
       "  </thead>\n",
       "  <tbody>\n",
       "    <tr>\n",
       "      <th>1</th>\n",
       "      <td>Bob</td>\n",
       "      <td>15</td>\n",
       "      <td>123</td>\n",
       "      <td>5.0</td>\n",
       "      <td>1</td>\n",
       "      <td>M</td>\n",
       "    </tr>\n",
       "    <tr>\n",
       "      <th>2</th>\n",
       "      <td>Mary</td>\n",
       "      <td>20</td>\n",
       "      <td>239</td>\n",
       "      <td>6.1</td>\n",
       "      <td>1</td>\n",
       "      <td>F</td>\n",
       "    </tr>\n",
       "  </tbody>\n",
       "</table>\n",
       "</div>"
      ],
      "text/plain": [
       "   Name  Age  Weight  Height  Siblings Gender\n",
       "1   Bob   15     123     5.0         1      M\n",
       "2  Mary   20     239     6.1         1      F"
      ]
     },
     "execution_count": 45,
     "metadata": {},
     "output_type": "execute_result"
    }
   ],
   "source": [
    "df[df[\"Age\"] > 10] "
   ]
  },
  {
   "cell_type": "code",
   "execution_count": 21,
   "id": "b66a1e77",
   "metadata": {},
   "outputs": [
    {
     "data": {
      "text/html": [
       "<div>\n",
       "<style scoped>\n",
       "    .dataframe tbody tr th:only-of-type {\n",
       "        vertical-align: middle;\n",
       "    }\n",
       "\n",
       "    .dataframe tbody tr th {\n",
       "        vertical-align: top;\n",
       "    }\n",
       "\n",
       "    .dataframe thead th {\n",
       "        text-align: right;\n",
       "    }\n",
       "</style>\n",
       "<table border=\"1\" class=\"dataframe\">\n",
       "  <thead>\n",
       "    <tr style=\"text-align: right;\">\n",
       "      <th></th>\n",
       "      <th>Age</th>\n",
       "      <th>Height</th>\n",
       "    </tr>\n",
       "  </thead>\n",
       "  <tbody>\n",
       "    <tr>\n",
       "      <th>0</th>\n",
       "      <td>10</td>\n",
       "      <td>4.5</td>\n",
       "    </tr>\n",
       "    <tr>\n",
       "      <th>1</th>\n",
       "      <td>15</td>\n",
       "      <td>5.0</td>\n",
       "    </tr>\n",
       "    <tr>\n",
       "      <th>2</th>\n",
       "      <td>20</td>\n",
       "      <td>6.1</td>\n",
       "    </tr>\n",
       "  </tbody>\n",
       "</table>\n",
       "</div>"
      ],
      "text/plain": [
       "   Age  Height\n",
       "0   10     4.5\n",
       "1   15     5.0\n",
       "2   20     6.1"
      ]
     },
     "execution_count": 21,
     "metadata": {},
     "output_type": "execute_result"
    }
   ],
   "source": [
    "df.filter(items=['Age','Height'])"
   ]
  },
  {
   "cell_type": "code",
   "execution_count": 47,
   "id": "35426b23",
   "metadata": {},
   "outputs": [
    {
     "name": "stdout",
     "output_type": "stream",
     "text": [
      "<class 'pandas.core.frame.DataFrame'>\n",
      "RangeIndex: 3 entries, 0 to 2\n",
      "Data columns (total 6 columns):\n",
      " #   Column    Non-Null Count  Dtype  \n",
      "---  ------    --------------  -----  \n",
      " 0   Name      3 non-null      object \n",
      " 1   Age       3 non-null      int64  \n",
      " 2   Weight    3 non-null      int64  \n",
      " 3   Height    3 non-null      float64\n",
      " 4   Siblings  3 non-null      int64  \n",
      " 5   Gender    3 non-null      object \n",
      "dtypes: float64(1), int64(3), object(2)\n",
      "memory usage: 276.0+ bytes\n"
     ]
    },
    {
     "data": {
      "text/plain": [
       "(3, 6)"
      ]
     },
     "execution_count": 47,
     "metadata": {},
     "output_type": "execute_result"
    }
   ],
   "source": [
    "df.info()\n",
    "df.shape"
   ]
  },
  {
   "cell_type": "markdown",
   "id": "c4cdc551",
   "metadata": {},
   "source": [
    "### Basic Statistics"
   ]
  },
  {
   "cell_type": "code",
   "execution_count": 50,
   "id": "c181dacf",
   "metadata": {},
   "outputs": [
    {
     "data": {
      "text/html": [
       "<div>\n",
       "<style scoped>\n",
       "    .dataframe tbody tr th:only-of-type {\n",
       "        vertical-align: middle;\n",
       "    }\n",
       "\n",
       "    .dataframe tbody tr th {\n",
       "        vertical-align: top;\n",
       "    }\n",
       "\n",
       "    .dataframe thead th {\n",
       "        text-align: right;\n",
       "    }\n",
       "</style>\n",
       "<table border=\"1\" class=\"dataframe\">\n",
       "  <thead>\n",
       "    <tr style=\"text-align: right;\">\n",
       "      <th></th>\n",
       "      <th>Age</th>\n",
       "      <th>Weight</th>\n",
       "      <th>Height</th>\n",
       "      <th>Siblings</th>\n",
       "    </tr>\n",
       "  </thead>\n",
       "  <tbody>\n",
       "    <tr>\n",
       "      <th>count</th>\n",
       "      <td>3.0</td>\n",
       "      <td>3.000000</td>\n",
       "      <td>3.000000</td>\n",
       "      <td>3.0</td>\n",
       "    </tr>\n",
       "    <tr>\n",
       "      <th>mean</th>\n",
       "      <td>15.0</td>\n",
       "      <td>145.666667</td>\n",
       "      <td>5.200000</td>\n",
       "      <td>1.0</td>\n",
       "    </tr>\n",
       "    <tr>\n",
       "      <th>std</th>\n",
       "      <td>5.0</td>\n",
       "      <td>84.316863</td>\n",
       "      <td>0.818535</td>\n",
       "      <td>0.0</td>\n",
       "    </tr>\n",
       "    <tr>\n",
       "      <th>min</th>\n",
       "      <td>10.0</td>\n",
       "      <td>75.000000</td>\n",
       "      <td>4.500000</td>\n",
       "      <td>1.0</td>\n",
       "    </tr>\n",
       "    <tr>\n",
       "      <th>25%</th>\n",
       "      <td>12.5</td>\n",
       "      <td>99.000000</td>\n",
       "      <td>4.750000</td>\n",
       "      <td>1.0</td>\n",
       "    </tr>\n",
       "    <tr>\n",
       "      <th>50%</th>\n",
       "      <td>15.0</td>\n",
       "      <td>123.000000</td>\n",
       "      <td>5.000000</td>\n",
       "      <td>1.0</td>\n",
       "    </tr>\n",
       "    <tr>\n",
       "      <th>75%</th>\n",
       "      <td>17.5</td>\n",
       "      <td>181.000000</td>\n",
       "      <td>5.550000</td>\n",
       "      <td>1.0</td>\n",
       "    </tr>\n",
       "    <tr>\n",
       "      <th>max</th>\n",
       "      <td>20.0</td>\n",
       "      <td>239.000000</td>\n",
       "      <td>6.100000</td>\n",
       "      <td>1.0</td>\n",
       "    </tr>\n",
       "  </tbody>\n",
       "</table>\n",
       "</div>"
      ],
      "text/plain": [
       "        Age      Weight    Height  Siblings\n",
       "count   3.0    3.000000  3.000000       3.0\n",
       "mean   15.0  145.666667  5.200000       1.0\n",
       "std     5.0   84.316863  0.818535       0.0\n",
       "min    10.0   75.000000  4.500000       1.0\n",
       "25%    12.5   99.000000  4.750000       1.0\n",
       "50%    15.0  123.000000  5.000000       1.0\n",
       "75%    17.5  181.000000  5.550000       1.0\n",
       "max    20.0  239.000000  6.100000       1.0"
      ]
     },
     "execution_count": 50,
     "metadata": {},
     "output_type": "execute_result"
    }
   ],
   "source": [
    "df.describe()\n"
   ]
  },
  {
   "cell_type": "code",
   "execution_count": 56,
   "id": "6a19d403",
   "metadata": {},
   "outputs": [
    {
     "name": "stdout",
     "output_type": "stream",
     "text": [
      "20\n"
     ]
    }
   ],
   "source": [
    "print(df[\"Age\"].max())"
   ]
  },
  {
   "cell_type": "markdown",
   "id": "7261c59d",
   "metadata": {},
   "source": [
    "### Ploting with Pandas"
   ]
  },
  {
   "cell_type": "code",
   "execution_count": 36,
   "id": "e368530e",
   "metadata": {},
   "outputs": [
    {
     "data": {
      "image/png": "[encoded data removed]",
      "text/plain": [
       "<Figure size 640x480 with 1 Axes>"
      ]
     },
     "metadata": {},
     "output_type": "display_data"
    }
   ],
   "source": [
    "import matplotlib.pyplot as plt\n",
    "df.set_index(\"Name\")[[\"Weight\", \"Height\"]].plot(kind=\"bar\")\n",
    "plt. title(\"Distribution of Height and Weight\")\n",
    "plt.ylabel(\"Weight\")\n",
    "plt.xlabel(\"Height\")\n",
    "plt.show()\n"
   ]
  },
  {
   "cell_type": "code",
   "execution_count": 25,
   "id": "7ddadf53",
   "metadata": {},
   "outputs": [
    {
     "data": {
      "image/png": "[encoded data removed]",
      "text/plain": [
       "<Figure size 640x480 with 1 Axes>"
      ]
     },
     "metadata": {},
     "output_type": "display_data"
    }
   ],
   "source": [
    "df['Gender'].value_counts().plot(kind='bar');\n",
    "plt.show()"
   ]
  },
  {
   "cell_type": "code",
   "execution_count": 3,
   "id": "a1962a31",
   "metadata": {},
   "outputs": [],
   "source": [
    "import pandas as pd"
   ]
  },
  {
   "cell_type": "code",
   "execution_count": 18,
   "id": "0d18523f",
   "metadata": {},
   "outputs": [
    {
     "data": {
      "text/html": [
       "<div>\n",
       "<style scoped>\n",
       "    .dataframe tbody tr th:only-of-type {\n",
       "        vertical-align: middle;\n",
       "    }\n",
       "\n",
       "    .dataframe tbody tr th {\n",
       "        vertical-align: top;\n",
       "    }\n",
       "\n",
       "    .dataframe thead th {\n",
       "        text-align: right;\n",
       "    }\n",
       "</style>\n",
       "<table border=\"1\" class=\"dataframe\">\n",
       "  <thead>\n",
       "    <tr style=\"text-align: right;\">\n",
       "      <th></th>\n",
       "      <th>Name</th>\n",
       "      <th>ScientificName</th>\n",
       "      <th>Category</th>\n",
       "      <th>Order</th>\n",
       "      <th>Family</th>\n",
       "      <th>Genus</th>\n",
       "      <th>ConservationStatus</th>\n",
       "      <th>MinLength</th>\n",
       "      <th>MaxLength</th>\n",
       "      <th>MinBodyMass</th>\n",
       "      <th>MaxBodyMass</th>\n",
       "      <th>MinWingspan</th>\n",
       "      <th>MaxWingspan</th>\n",
       "    </tr>\n",
       "  </thead>\n",
       "  <tbody>\n",
       "    <tr>\n",
       "      <th>0</th>\n",
       "      <td>Black-bellied whistling-duck</td>\n",
       "      <td>Dendrocygna autumnalis</td>\n",
       "      <td>Ducks/Geese/Waterfowl</td>\n",
       "      <td>Anseriformes</td>\n",
       "      <td>Anatidae</td>\n",
       "      <td>Dendrocygna</td>\n",
       "      <td>LC</td>\n",
       "      <td>47.0</td>\n",
       "      <td>56.0</td>\n",
       "      <td>652.0</td>\n",
       "      <td>1020.0</td>\n",
       "      <td>76.0</td>\n",
       "      <td>94.0</td>\n",
       "    </tr>\n",
       "    <tr>\n",
       "      <th>1</th>\n",
       "      <td>Fulvous whistling-duck</td>\n",
       "      <td>Dendrocygna bicolor</td>\n",
       "      <td>Ducks/Geese/Waterfowl</td>\n",
       "      <td>Anseriformes</td>\n",
       "      <td>Anatidae</td>\n",
       "      <td>Dendrocygna</td>\n",
       "      <td>LC</td>\n",
       "      <td>45.0</td>\n",
       "      <td>53.0</td>\n",
       "      <td>712.0</td>\n",
       "      <td>1050.0</td>\n",
       "      <td>85.0</td>\n",
       "      <td>93.0</td>\n",
       "    </tr>\n",
       "    <tr>\n",
       "      <th>2</th>\n",
       "      <td>Snow goose</td>\n",
       "      <td>Anser caerulescens</td>\n",
       "      <td>Ducks/Geese/Waterfowl</td>\n",
       "      <td>Anseriformes</td>\n",
       "      <td>Anatidae</td>\n",
       "      <td>Anser</td>\n",
       "      <td>LC</td>\n",
       "      <td>64.0</td>\n",
       "      <td>79.0</td>\n",
       "      <td>2050.0</td>\n",
       "      <td>4050.0</td>\n",
       "      <td>135.0</td>\n",
       "      <td>165.0</td>\n",
       "    </tr>\n",
       "    <tr>\n",
       "      <th>3</th>\n",
       "      <td>Ross's goose</td>\n",
       "      <td>Anser rossii</td>\n",
       "      <td>Ducks/Geese/Waterfowl</td>\n",
       "      <td>Anseriformes</td>\n",
       "      <td>Anatidae</td>\n",
       "      <td>Anser</td>\n",
       "      <td>LC</td>\n",
       "      <td>57.3</td>\n",
       "      <td>64.0</td>\n",
       "      <td>1066.0</td>\n",
       "      <td>1567.0</td>\n",
       "      <td>113.0</td>\n",
       "      <td>116.0</td>\n",
       "    </tr>\n",
       "    <tr>\n",
       "      <th>4</th>\n",
       "      <td>Greater white-fronted goose</td>\n",
       "      <td>Anser albifrons</td>\n",
       "      <td>Ducks/Geese/Waterfowl</td>\n",
       "      <td>Anseriformes</td>\n",
       "      <td>Anatidae</td>\n",
       "      <td>Anser</td>\n",
       "      <td>LC</td>\n",
       "      <td>64.0</td>\n",
       "      <td>81.0</td>\n",
       "      <td>1930.0</td>\n",
       "      <td>3310.0</td>\n",
       "      <td>130.0</td>\n",
       "      <td>165.0</td>\n",
       "    </tr>\n",
       "  </tbody>\n",
       "</table>\n",
       "</div>"
      ],
      "text/plain": [
       "                           Name          ScientificName  \\\n",
       "0  Black-bellied whistling-duck  Dendrocygna autumnalis   \n",
       "1        Fulvous whistling-duck     Dendrocygna bicolor   \n",
       "2                    Snow goose      Anser caerulescens   \n",
       "3                  Ross's goose            Anser rossii   \n",
       "4   Greater white-fronted goose         Anser albifrons   \n",
       "\n",
       "                Category         Order    Family        Genus  \\\n",
       "0  Ducks/Geese/Waterfowl  Anseriformes  Anatidae  Dendrocygna   \n",
       "1  Ducks/Geese/Waterfowl  Anseriformes  Anatidae  Dendrocygna   \n",
       "2  Ducks/Geese/Waterfowl  Anseriformes  Anatidae        Anser   \n",
       "3  Ducks/Geese/Waterfowl  Anseriformes  Anatidae        Anser   \n",
       "4  Ducks/Geese/Waterfowl  Anseriformes  Anatidae        Anser   \n",
       "\n",
       "  ConservationStatus  MinLength  MaxLength  MinBodyMass  MaxBodyMass  \\\n",
       "0                 LC       47.0       56.0        652.0       1020.0   \n",
       "1                 LC       45.0       53.0        712.0       1050.0   \n",
       "2                 LC       64.0       79.0       2050.0       4050.0   \n",
       "3                 LC       57.3       64.0       1066.0       1567.0   \n",
       "4                 LC       64.0       81.0       1930.0       3310.0   \n",
       "\n",
       "   MinWingspan  MaxWingspan  \n",
       "0         76.0         94.0  \n",
       "1         85.0         93.0  \n",
       "2        135.0        165.0  \n",
       "3        113.0        116.0  \n",
       "4        130.0        165.0  "
      ]
     },
     "execution_count": 18,
     "metadata": {},
     "output_type": "execute_result"
    }
   ],
   "source": [
    "df2=pd.read_csv(r\"C:\\Users\\MINE\\OneDrive\\Desktop\\ArewaDS-Machine-Learning\\data\\birds.csv\")\n",
    "df2.head()"
   ]
  },
  {
   "cell_type": "code",
   "execution_count": 8,
   "id": "47f0814d",
   "metadata": {},
   "outputs": [
    {
     "data": {
      "text/html": [
       "<div>\n",
       "<style scoped>\n",
       "    .dataframe tbody tr th:only-of-type {\n",
       "        vertical-align: middle;\n",
       "    }\n",
       "\n",
       "    .dataframe tbody tr th {\n",
       "        vertical-align: top;\n",
       "    }\n",
       "\n",
       "    .dataframe thead th {\n",
       "        text-align: right;\n",
       "    }\n",
       "</style>\n",
       "<table border=\"1\" class=\"dataframe\">\n",
       "  <thead>\n",
       "    <tr style=\"text-align: right;\">\n",
       "      <th></th>\n",
       "      <th>Name</th>\n",
       "      <th>ScientificName</th>\n",
       "      <th>Category</th>\n",
       "      <th>Order</th>\n",
       "      <th>Family</th>\n",
       "      <th>Genus</th>\n",
       "      <th>ConservationStatus</th>\n",
       "      <th>MinLength</th>\n",
       "      <th>MaxLength</th>\n",
       "      <th>MinBodyMass</th>\n",
       "      <th>MaxBodyMass</th>\n",
       "      <th>MinWingspan</th>\n",
       "      <th>MaxWingspan</th>\n",
       "    </tr>\n",
       "  </thead>\n",
       "  <tbody>\n",
       "    <tr>\n",
       "      <th>438</th>\n",
       "      <td>Blue grosbeak</td>\n",
       "      <td>Passerina caerulea</td>\n",
       "      <td>Cardinals/Allies</td>\n",
       "      <td>Passeriformes</td>\n",
       "      <td>Cardinalidae</td>\n",
       "      <td>Passerina</td>\n",
       "      <td>LC</td>\n",
       "      <td>14.0</td>\n",
       "      <td>19.0</td>\n",
       "      <td>26.0</td>\n",
       "      <td>31.5</td>\n",
       "      <td>26.0</td>\n",
       "      <td>29.0</td>\n",
       "    </tr>\n",
       "    <tr>\n",
       "      <th>439</th>\n",
       "      <td>Lazuli bunting</td>\n",
       "      <td>Passerina amoena</td>\n",
       "      <td>Cardinals/Allies</td>\n",
       "      <td>Passeriformes</td>\n",
       "      <td>Cardinalidae</td>\n",
       "      <td>Passerina</td>\n",
       "      <td>LC</td>\n",
       "      <td>13.0</td>\n",
       "      <td>15.0</td>\n",
       "      <td>13.0</td>\n",
       "      <td>18.0</td>\n",
       "      <td>22.0</td>\n",
       "      <td>22.0</td>\n",
       "    </tr>\n",
       "    <tr>\n",
       "      <th>440</th>\n",
       "      <td>Indigo bunting</td>\n",
       "      <td>Passerina cyanea</td>\n",
       "      <td>Cardinals/Allies</td>\n",
       "      <td>Passeriformes</td>\n",
       "      <td>Cardinalidae</td>\n",
       "      <td>Passerina</td>\n",
       "      <td>LC</td>\n",
       "      <td>11.5</td>\n",
       "      <td>15.0</td>\n",
       "      <td>11.2</td>\n",
       "      <td>21.4</td>\n",
       "      <td>18.0</td>\n",
       "      <td>23.0</td>\n",
       "    </tr>\n",
       "    <tr>\n",
       "      <th>441</th>\n",
       "      <td>Painted bunting</td>\n",
       "      <td>Passerina ciris</td>\n",
       "      <td>Cardinals/Allies</td>\n",
       "      <td>Passeriformes</td>\n",
       "      <td>Cardinalidae</td>\n",
       "      <td>Passerina</td>\n",
       "      <td>LC</td>\n",
       "      <td>12.0</td>\n",
       "      <td>14.0</td>\n",
       "      <td>13.0</td>\n",
       "      <td>19.0</td>\n",
       "      <td>21.0</td>\n",
       "      <td>23.0</td>\n",
       "    </tr>\n",
       "    <tr>\n",
       "      <th>442</th>\n",
       "      <td>Dickcissel</td>\n",
       "      <td>Spiza americana</td>\n",
       "      <td>Cardinals/Allies</td>\n",
       "      <td>Passeriformes</td>\n",
       "      <td>Cardinalidae</td>\n",
       "      <td>Spiza</td>\n",
       "      <td>LC</td>\n",
       "      <td>14.0</td>\n",
       "      <td>16.0</td>\n",
       "      <td>25.6</td>\n",
       "      <td>38.4</td>\n",
       "      <td>24.8</td>\n",
       "      <td>26.0</td>\n",
       "    </tr>\n",
       "  </tbody>\n",
       "</table>\n",
       "</div>"
      ],
      "text/plain": [
       "                Name      ScientificName          Category          Order  \\\n",
       "438    Blue grosbeak  Passerina caerulea  Cardinals/Allies  Passeriformes   \n",
       "439   Lazuli bunting    Passerina amoena  Cardinals/Allies  Passeriformes   \n",
       "440   Indigo bunting    Passerina cyanea  Cardinals/Allies  Passeriformes   \n",
       "441  Painted bunting     Passerina ciris  Cardinals/Allies  Passeriformes   \n",
       "442       Dickcissel     Spiza americana  Cardinals/Allies  Passeriformes   \n",
       "\n",
       "           Family      Genus ConservationStatus  MinLength  MaxLength  \\\n",
       "438  Cardinalidae  Passerina                 LC       14.0       19.0   \n",
       "439  Cardinalidae  Passerina                 LC       13.0       15.0   \n",
       "440  Cardinalidae  Passerina                 LC       11.5       15.0   \n",
       "441  Cardinalidae  Passerina                 LC       12.0       14.0   \n",
       "442  Cardinalidae      Spiza                 LC       14.0       16.0   \n",
       "\n",
       "     MinBodyMass  MaxBodyMass  MinWingspan  MaxWingspan  \n",
       "438         26.0         31.5         26.0         29.0  \n",
       "439         13.0         18.0         22.0         22.0  \n",
       "440         11.2         21.4         18.0         23.0  \n",
       "441         13.0         19.0         21.0         23.0  \n",
       "442         25.6         38.4         24.8         26.0  "
      ]
     },
     "execution_count": 8,
     "metadata": {},
     "output_type": "execute_result"
    }
   ],
   "source": [
    "df2.tail()"
   ]
  },
  {
   "cell_type": "code",
   "execution_count": 11,
   "id": "9481262f",
   "metadata": {},
   "outputs": [
    {
     "data": {
      "text/plain": [
       "(443, 13)"
      ]
     },
     "execution_count": 11,
     "metadata": {},
     "output_type": "execute_result"
    }
   ],
   "source": [
    "df2.shape"
   ]
  },
  {
   "cell_type": "code",
   "execution_count": 13,
   "id": "fffcf205",
   "metadata": {},
   "outputs": [
    {
     "name": "stdout",
     "output_type": "stream",
     "text": [
      "<class 'pandas.core.frame.DataFrame'>\n",
      "RangeIndex: 443 entries, 0 to 442\n",
      "Data columns (total 13 columns):\n",
      " #   Column              Non-Null Count  Dtype  \n",
      "---  ------              --------------  -----  \n",
      " 0   Name                443 non-null    object \n",
      " 1   ScientificName      443 non-null    object \n",
      " 2   Category            443 non-null    object \n",
      " 3   Order               443 non-null    object \n",
      " 4   Family              443 non-null    object \n",
      " 5   Genus               443 non-null    object \n",
      " 6   ConservationStatus  443 non-null    object \n",
      " 7   MinLength           443 non-null    float64\n",
      " 8   MaxLength           443 non-null    float64\n",
      " 9   MinBodyMass         443 non-null    float64\n",
      " 10  MaxBodyMass         443 non-null    float64\n",
      " 11  MinWingspan         443 non-null    float64\n",
      " 12  MaxWingspan         443 non-null    float64\n",
      "dtypes: float64(6), object(7)\n",
      "memory usage: 45.1+ KB\n"
     ]
    }
   ],
   "source": [
    "df2.info()"
   ]
  },
  {
   "cell_type": "code",
   "execution_count": 15,
   "id": "9bc42bd6",
   "metadata": {},
   "outputs": [
    {
     "data": {
      "text/plain": [
       "Name                  0\n",
       "ScientificName        0\n",
       "Category              0\n",
       "Order                 0\n",
       "Family                0\n",
       "Genus                 0\n",
       "ConservationStatus    0\n",
       "MinLength             0\n",
       "MaxLength             0\n",
       "MinBodyMass           0\n",
       "MaxBodyMass           0\n",
       "MinWingspan           0\n",
       "MaxWingspan           0\n",
       "dtype: int64"
      ]
     },
     "execution_count": 15,
     "metadata": {},
     "output_type": "execute_result"
    }
   ],
   "source": [
    "df2.isnull().sum()"
   ]
  },
  {
   "cell_type": "code",
   "execution_count": 22,
   "id": "8dfd9971",
   "metadata": {},
   "outputs": [
    {
     "data": {
      "text/html": [
       "<div>\n",
       "<style scoped>\n",
       "    .dataframe tbody tr th:only-of-type {\n",
       "        vertical-align: middle;\n",
       "    }\n",
       "\n",
       "    .dataframe tbody tr th {\n",
       "        vertical-align: top;\n",
       "    }\n",
       "\n",
       "    .dataframe thead th {\n",
       "        text-align: right;\n",
       "    }\n",
       "</style>\n",
       "<table border=\"1\" class=\"dataframe\">\n",
       "  <thead>\n",
       "    <tr style=\"text-align: right;\">\n",
       "      <th></th>\n",
       "      <th>MinLength</th>\n",
       "      <th>MaxLength</th>\n",
       "      <th>MinBodyMass</th>\n",
       "      <th>MaxBodyMass</th>\n",
       "      <th>MinWingspan</th>\n",
       "      <th>MaxWingspan</th>\n",
       "    </tr>\n",
       "  </thead>\n",
       "  <tbody>\n",
       "    <tr>\n",
       "      <th>count</th>\n",
       "      <td>443.000000</td>\n",
       "      <td>443.000000</td>\n",
       "      <td>443.000000</td>\n",
       "      <td>443.000000</td>\n",
       "      <td>443.000000</td>\n",
       "      <td>443.000000</td>\n",
       "    </tr>\n",
       "    <tr>\n",
       "      <th>mean</th>\n",
       "      <td>28.536682</td>\n",
       "      <td>35.441986</td>\n",
       "      <td>327.938262</td>\n",
       "      <td>667.009752</td>\n",
       "      <td>58.557901</td>\n",
       "      <td>67.524492</td>\n",
       "    </tr>\n",
       "    <tr>\n",
       "      <th>std</th>\n",
       "      <td>20.319887</td>\n",
       "      <td>27.539772</td>\n",
       "      <td>779.680106</td>\n",
       "      <td>1655.682564</td>\n",
       "      <td>104.602369</td>\n",
       "      <td>126.673177</td>\n",
       "    </tr>\n",
       "    <tr>\n",
       "      <th>min</th>\n",
       "      <td>7.000000</td>\n",
       "      <td>8.900000</td>\n",
       "      <td>2.000000</td>\n",
       "      <td>3.000000</td>\n",
       "      <td>8.000000</td>\n",
       "      <td>10.600000</td>\n",
       "    </tr>\n",
       "    <tr>\n",
       "      <th>25%</th>\n",
       "      <td>13.750000</td>\n",
       "      <td>16.000000</td>\n",
       "      <td>18.000000</td>\n",
       "      <td>28.000000</td>\n",
       "      <td>23.000000</td>\n",
       "      <td>25.000000</td>\n",
       "    </tr>\n",
       "    <tr>\n",
       "      <th>50%</th>\n",
       "      <td>20.500000</td>\n",
       "      <td>25.000000</td>\n",
       "      <td>55.000000</td>\n",
       "      <td>89.000000</td>\n",
       "      <td>38.000000</td>\n",
       "      <td>42.000000</td>\n",
       "    </tr>\n",
       "    <tr>\n",
       "      <th>75%</th>\n",
       "      <td>39.000000</td>\n",
       "      <td>46.000000</td>\n",
       "      <td>332.000000</td>\n",
       "      <td>593.000000</td>\n",
       "      <td>72.750000</td>\n",
       "      <td>83.000000</td>\n",
       "    </tr>\n",
       "    <tr>\n",
       "      <th>max</th>\n",
       "      <td>138.000000</td>\n",
       "      <td>180.000000</td>\n",
       "      <td>9200.000000</td>\n",
       "      <td>14300.000000</td>\n",
       "      <td>1800.000000</td>\n",
       "      <td>2300.000000</td>\n",
       "    </tr>\n",
       "  </tbody>\n",
       "</table>\n",
       "</div>"
      ],
      "text/plain": [
       "        MinLength   MaxLength  MinBodyMass   MaxBodyMass  MinWingspan  \\\n",
       "count  443.000000  443.000000   443.000000    443.000000   443.000000   \n",
       "mean    28.536682   35.441986   327.938262    667.009752    58.557901   \n",
       "std     20.319887   27.539772   779.680106   1655.682564   104.602369   \n",
       "min      7.000000    8.900000     2.000000      3.000000     8.000000   \n",
       "25%     13.750000   16.000000    18.000000     28.000000    23.000000   \n",
       "50%     20.500000   25.000000    55.000000     89.000000    38.000000   \n",
       "75%     39.000000   46.000000   332.000000    593.000000    72.750000   \n",
       "max    138.000000  180.000000  9200.000000  14300.000000  1800.000000   \n",
       "\n",
       "       MaxWingspan  \n",
       "count   443.000000  \n",
       "mean     67.524492  \n",
       "std     126.673177  \n",
       "min      10.600000  \n",
       "25%      25.000000  \n",
       "50%      42.000000  \n",
       "75%      83.000000  \n",
       "max    2300.000000  "
      ]
     },
     "execution_count": 22,
     "metadata": {},
     "output_type": "execute_result"
    }
   ],
   "source": [
    "df2.describe()"
   ]
  },
  {
   "cell_type": "code",
   "execution_count": 24,
   "id": "42a6aae1",
   "metadata": {},
   "outputs": [
    {
     "data": {
      "text/plain": [
       "Name                             Snow goose\n",
       "ScientificName           Anser caerulescens\n",
       "Category              Ducks/Geese/Waterfowl\n",
       "Order                          Anseriformes\n",
       "Family                             Anatidae\n",
       "Genus                                 Anser\n",
       "ConservationStatus                       LC\n",
       "MinLength                              64.0\n",
       "MaxLength                              79.0\n",
       "MinBodyMass                          2050.0\n",
       "MaxBodyMass                          4050.0\n",
       "MinWingspan                           135.0\n",
       "MaxWingspan                           165.0\n",
       "Name: 2, dtype: object"
      ]
     },
     "execution_count": 24,
     "metadata": {},
     "output_type": "execute_result"
    }
   ],
   "source": [
    "df2.loc[2]"
   ]
  },
  {
   "cell_type": "code",
   "execution_count": 36,
   "id": "3e8fd8c7",
   "metadata": {},
   "outputs": [
    {
     "name": "stdout",
     "output_type": "stream",
     "text": [
      "Family\n",
      "Accipitridae         2300.0\n",
      "Alaudidae              34.0\n",
      "Alcedinidae            58.0\n",
      "Alcidae                58.0\n",
      "Anatidae              250.0\n",
      "Apodidae               35.5\n",
      "Ardeidae              201.0\n",
      "Bombycillidae          35.5\n",
      "Calcariidae            38.0\n",
      "Caprimulgidae          66.0\n",
      "Cardinalidae           33.0\n",
      "Cathartidae           183.0\n",
      "Certhiidae             20.0\n",
      "Charadriidae           83.0\n",
      "Ciconiidae            180.0\n",
      "Cinclidae              23.0\n",
      "Columbidae             72.0\n",
      "Corvidae              150.0\n",
      "Cuculidae              46.0\n",
      "Falconidae           1100.0\n",
      "Fregatidae            244.0\n",
      "Fringillidae           36.0\n",
      "Gaviidae              160.0\n",
      "Gruidae               230.0\n",
      "Hirundinidae           41.0\n",
      "Icteridae              58.0\n",
      "Laniidae               35.0\n",
      "Laridae               170.0\n",
      "Mimidae                38.0\n",
      "Motacillidae           25.4\n",
      "Muscicapidae           32.0\n",
      "Odontophoridae         38.0\n",
      "Pandionidae           180.0\n",
      "Paridae                26.0\n",
      "Parulidae              26.0\n",
      "Passerellidae          30.0\n",
      "Passeridae             25.0\n",
      "Pelecanidae           300.0\n",
      "Phalacrocoracidae     123.0\n",
      "Phasianidae           144.0\n",
      "Picidae                75.0\n",
      "Podicipedidae         102.0\n",
      "Polioptilidae          16.0\n",
      "Procellariidae        112.0\n",
      "Rallidae               71.0\n",
      "Recurvirostridae       76.0\n",
      "Regulidae              18.0\n",
      "Scolopacidae           90.0\n",
      "Sittidae               27.0\n",
      "Stercorariidae        138.0\n",
      "Strigidae             165.6\n",
      "Sturnidae              44.0\n",
      "Threskiornithidae     133.0\n",
      "Trochilidae            18.0\n",
      "Troglodytidae          29.0\n",
      "Turdidae               42.0\n",
      "Tyrannidae             41.0\n",
      "Tytonidae              95.0\n",
      "Vireonidae             25.0\n",
      "Name: MaxWingspan, dtype: float64\n"
     ]
    }
   ],
   "source": [
    "print(df2.groupby(\"Family\")[\"MaxWingspan\"].max())"
   ]
  },
  {
   "cell_type": "code",
   "execution_count": 38,
   "id": "00830eaf",
   "metadata": {},
   "outputs": [
    {
     "data": {
      "image/png": "[encoded data removed]",
      "text/plain": [
       "<Figure size 640x480 with 1 Axes>"
      ]
     },
     "metadata": {},
     "output_type": "display_data"
    }
   ],
   "source": [
    "import matplotlib.pyplot as plt\n",
    "\n",
    "df2.set_index(\"Family\")[[\"MinLength\", \"MaxLength\"]].plot(kind=\"bar\")\n",
    "plt.title(\"Scores by Subject\")\n",
    "plt.ylabel(\"Score\")\n",
    "plt.xticks(rotation=45)\n",
    "plt.tight_layout()\n",
    "plt.show()"
   ]
  }
 ],
 "metadata": {
  "kernelspec": {
   "display_name": "Python 3",
   "language": "python",
   "name": "python3"
  },
  "language_info": {
   "codemirror_mode": {
    "name": "ipython",
    "version": 3
   },
   "file_extension": ".py",
   "mimetype": "text/x-python",
   "name": "python",
   "nbconvert_exporter": "python",
   "pygments_lexer": "ipython3",
   "version": "3.13.2"
  }
 },
 "nbformat": 4,
 "nbformat_minor": 5
}
