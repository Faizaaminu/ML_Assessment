{
 "cells": [
  {
   "cell_type": "markdown",
   "id": "4c528a06",
   "metadata": {},
   "source": [
    "# 100 numpy exercises"
   ]
  },
  {
   "cell_type": "markdown",
   "id": "17a6cf84",
   "metadata": {},
   "source": [
    "#### 1. Import the numpy package under the name `np`(★☆☆)"
   ]
  },
  {
   "cell_type": "code",
   "execution_count": 1,
   "id": "de94d347",
   "metadata": {},
   "outputs": [],
   "source": [
    "import numpy as np"
   ]
  },
  {
   "cell_type": "markdown",
   "id": "98949301",
   "metadata": {},
   "source": [
    "#### 2. Print the numpy version and the configuration (★☆☆)\n"
   ]
  },
  {
   "cell_type": "code",
   "execution_count": null,
   "id": "880638fd",
   "metadata": {},
   "outputs": [
    {
     "name": "stdout",
     "output_type": "stream",
     "text": [
      "NumPy version: <module 'numpy.version' from 'c:\\\\Users\\\\MINE\\\\anaconda3\\\\envs\\\\arewads\\\\lib\\\\site-packages\\\\numpy\\\\version.py'>\n",
      "Build Dependencies:\n",
      "  blas:\n",
      "    detection method: pkgconfig\n",
      "    found: true\n",
      "    include directory: C:/Users/MINE/anaconda3/envs/arewads/Library/include\n",
      "    lib directory: C:/Users/MINE/anaconda3/envs/arewads/Library/lib\n",
      "    name: mkl-sdl\n",
      "    openblas configuration: unknown\n",
      "    pc file directory: C:\\b\\abs_0123vcxhf8\\croot\\numpy_and_numpy_base_1725470331966\\_h_env\\Library\\lib\\pkgconfig\n",
      "    version: '2023.1'\n",
      "  lapack:\n",
      "    detection method: pkgconfig\n",
      "    found: true\n",
      "    include directory: C:/Users/MINE/anaconda3/envs/arewads/Library/include\n",
      "    lib directory: C:/Users/MINE/anaconda3/envs/arewads/Library/lib\n",
      "    name: mkl-sdl\n",
      "    openblas configuration: unknown\n",
      "    pc file directory: C:\\b\\abs_0123vcxhf8\\croot\\numpy_and_numpy_base_1725470331966\\_h_env\\Library\\lib\\pkgconfig\n",
      "    version: '2023.1'\n",
      "Compilers:\n",
      "  c:\n",
      "    commands: cl.exe\n",
      "    linker: link\n",
      "    name: msvc\n",
      "    version: 19.29.30154\n",
      "  c++:\n",
      "    commands: cl.exe\n",
      "    linker: link\n",
      "    name: msvc\n",
      "    version: 19.29.30154\n",
      "  cython:\n",
      "    commands: cython\n",
      "    linker: cython\n",
      "    name: cython\n",
      "    version: 3.0.10\n",
      "Machine Information:\n",
      "  build:\n",
      "    cpu: x86_64\n",
      "    endian: little\n",
      "    family: x86_64\n",
      "    system: windows\n",
      "  host:\n",
      "    cpu: x86_64\n",
      "    endian: little\n",
      "    family: x86_64\n",
      "    system: windows\n",
      "Python Information:\n",
      "  path: C:\\b\\abs_0123vcxhf8\\croot\\numpy_and_numpy_base_1725470331966\\_h_env\\python.exe\n",
      "  version: '3.10'\n",
      "SIMD Extensions:\n",
      "  baseline:\n",
      "  - SSE\n",
      "  - SSE2\n",
      "  - SSE3\n",
      "  found:\n",
      "  - SSSE3\n",
      "  - SSE41\n",
      "  - POPCNT\n",
      "  - SSE42\n",
      "  - AVX\n",
      "  not found:\n",
      "  - F16C\n",
      "  - FMA3\n",
      "  - AVX2\n",
      "  - AVX512F\n",
      "  - AVX512CD\n",
      "  - AVX512_SKX\n",
      "  - AVX512_CLX\n",
      "  - AVX512_CNL\n",
      "  - AVX512_ICL\n",
      "\n"
     ]
    }
   ],
   "source": [
    "#print Numpy version\n",
    "print(\"NumPy version:\", np.version)  #Displaysversion of the installed numpy pacage\n",
    "\n",
    "#print Numpy configuration\n",
    "np.show_config() #Displays configuration details"
   ]
  },
  {
   "cell_type": "markdown",
   "id": "c26ffefb",
   "metadata": {},
   "source": [
    "#### 3. Create a null vector of size 10 (★☆☆)\n"
   ]
  },
  {
   "cell_type": "code",
   "execution_count": 6,
   "id": "c8cab383",
   "metadata": {},
   "outputs": [
    {
     "name": "stdout",
     "output_type": "stream",
     "text": [
      "Null vector of size 10: [0. 0. 0. 0. 0. 0. 0. 0. 0. 0.]\n"
     ]
    }
   ],
   "source": [
    "null_vector=np.zeros(10)\n",
    "print(\"Null vector of size 10:\", null_vector)"
   ]
  },
  {
   "cell_type": "markdown",
   "id": "e4bf763b",
   "metadata": {},
   "source": [
    "#### 4. How to find the memory size of any array (★☆☆)\n"
   ]
  },
  {
   "cell_type": "code",
   "execution_count": 7,
   "id": "c04824d2",
   "metadata": {},
   "outputs": [
    {
     "name": "stdout",
     "output_type": "stream",
     "text": [
      "Memory size of the array:, 80 bytes\n"
     ]
    }
   ],
   "source": [
    "#create an array\n",
    "arr=np.zeros(10)\n",
    "\n",
    "#Get the memory size\n",
    "memory_size=arr.nbytes\n",
    "print(f\"Memory size of the array:, {memory_size} bytes\")"
   ]
  },
  {
   "cell_type": "code",
   "execution_count": 8,
   "id": "a4f66f17",
   "metadata": {},
   "outputs": [
    {
     "data": {
      "text/plain": [
       "80"
      ]
     },
     "execution_count": 8,
     "metadata": {},
     "output_type": "execute_result"
    }
   ],
   "source": [
    "arr.size*arr.itemsize"
   ]
  },
  {
   "cell_type": "markdown",
   "id": "7292a1e1",
   "metadata": {},
   "source": [
    "#### 5. How to get the documentation of the numpy add function from the command line? (★☆☆)\n"
   ]
  },
  {
   "cell_type": "code",
   "execution_count": 9,
   "id": "0a9858f1",
   "metadata": {},
   "outputs": [
    {
     "name": "stdout",
     "output_type": "stream",
     "text": [
      "Help on ufunc:\n",
      "\n",
      "add = <ufunc 'add'>\n",
      "    add(x1, x2, /, out=None, *, where=True, casting='same_kind', order='K', dtype=None, subok=True[, signature])\n",
      "    \n",
      "    Add arguments element-wise.\n",
      "    \n",
      "    Parameters\n",
      "    ----------\n",
      "    x1, x2 : array_like\n",
      "        The arrays to be added.\n",
      "        If ``x1.shape != x2.shape``, they must be broadcastable to a common\n",
      "        shape (which becomes the shape of the output).\n",
      "    out : ndarray, None, or tuple of ndarray and None, optional\n",
      "        A location into which the result is stored. If provided, it must have\n",
      "        a shape that the inputs broadcast to. If not provided or None,\n",
      "        a freshly-allocated array is returned. A tuple (possible only as a\n",
      "        keyword argument) must have length equal to the number of outputs.\n",
      "    where : array_like, optional\n",
      "        This condition is broadcast over the input. At locations where the\n",
      "        condition is True, the `out` array will be set to the ufunc result.\n",
      "        Elsewhere, the `out` array will retain its original value.\n",
      "        Note that if an uninitialized `out` array is created via the default\n",
      "        ``out=None``, locations within it where the condition is False will\n",
      "        remain uninitialized.\n",
      "    **kwargs\n",
      "        For other keyword-only arguments, see the\n",
      "        :ref:`ufunc docs <ufuncs.kwargs>`.\n",
      "    \n",
      "    Returns\n",
      "    -------\n",
      "    add : ndarray or scalar\n",
      "        The sum of `x1` and `x2`, element-wise.\n",
      "        This is a scalar if both `x1` and `x2` are scalars.\n",
      "    \n",
      "    Notes\n",
      "    -----\n",
      "    Equivalent to `x1` + `x2` in terms of array broadcasting.\n",
      "    \n",
      "    Examples\n",
      "    --------\n",
      "    >>> np.add(1.0, 4.0)\n",
      "    5.0\n",
      "    >>> x1 = np.arange(9.0).reshape((3, 3))\n",
      "    >>> x2 = np.arange(3.0)\n",
      "    >>> np.add(x1, x2)\n",
      "    array([[  0.,   2.,   4.],\n",
      "           [  3.,   5.,   7.],\n",
      "           [  6.,   8.,  10.]])\n",
      "    \n",
      "    The ``+`` operator can be used as a shorthand for ``np.add`` on ndarrays.\n",
      "    \n",
      "    >>> x1 = np.arange(9.0).reshape((3, 3))\n",
      "    >>> x2 = np.arange(3.0)\n",
      "    >>> x1 + x2\n",
      "    array([[ 0.,  2.,  4.],\n",
      "           [ 3.,  5.,  7.],\n",
      "           [ 6.,  8., 10.]])\n",
      "\n"
     ]
    }
   ],
   "source": [
    "help(np.add)"
   ]
  },
  {
   "cell_type": "markdown",
   "id": "37f29082",
   "metadata": {},
   "source": [
    "#### 6. Create a null vector of size 10 but the fifth value which is 1 (★☆☆)\n"
   ]
  },
  {
   "cell_type": "code",
   "execution_count": 10,
   "id": "280765af",
   "metadata": {},
   "outputs": [
    {
     "name": "stdout",
     "output_type": "stream",
     "text": [
      "[0. 0. 0. 0. 1. 0. 0. 0. 0. 0.]\n"
     ]
    }
   ],
   "source": [
    "#create a null vector of size 10\n",
    "vector=np.zeros(10)\n",
    "\n",
    "# set the fifth element (index 4) to 1\n",
    "vector[4]=1\n",
    "print(vector)"
   ]
  },
  {
   "cell_type": "markdown",
   "id": "280821e4",
   "metadata": {},
   "source": [
    "#### 7. Create a vector with values ranging from 10 to 49 (★☆☆)\n"
   ]
  },
  {
   "cell_type": "code",
   "execution_count": 12,
   "id": "cbd6b1d7",
   "metadata": {},
   "outputs": [
    {
     "name": "stdout",
     "output_type": "stream",
     "text": [
      "[10 11 12 13 14 15 16 17 18 19 20 21 22 23 24 25 26 27 28 29 30 31 32 33\n",
      " 34 35 36 37 38 39 40 41 42 43 44 45 46 47 48 49]\n"
     ]
    }
   ],
   "source": [
    "# create a vector with values from 10 to 49\n",
    "vector=np.arange(10,50)\n",
    "print(vector)"
   ]
  },
  {
   "cell_type": "markdown",
   "id": "27f2d47f",
   "metadata": {},
   "source": [
    "#### 8. Reverse a vector (first element becomes last) (★☆☆)\n"
   ]
  },
  {
   "cell_type": "code",
   "execution_count": 13,
   "id": "8ef680a8",
   "metadata": {},
   "outputs": [
    {
     "name": "stdout",
     "output_type": "stream",
     "text": [
      "[49 48 47 46 45 44 43 42 41 40 39 38 37 36 35 34 33 32 31 30 29 28 27 26\n",
      " 25 24 23 22 21 20 19 18 17 16 15 14 13 12 11 10]\n"
     ]
    }
   ],
   "source": [
    "# reverse vector \n",
    "reversed_vector=vector[::-1]\n",
    "print(reversed_vector)"
   ]
  },
  {
   "cell_type": "markdown",
   "id": "c754be39",
   "metadata": {},
   "source": [
    "#### 9. Create a 3x3 matrix with values ranging from 0 to 8 (★☆☆)"
   ]
  },
  {
   "cell_type": "code",
   "execution_count": 14,
   "id": "d4473fe0",
   "metadata": {},
   "outputs": [
    {
     "name": "stdout",
     "output_type": "stream",
     "text": [
      "[[0 1 2]\n",
      " [3 4 5]\n",
      " [6 7 8]]\n"
     ]
    }
   ],
   "source": [
    "#create a 3x3 matrix with value from 0 to 8\n",
    "matrix=np.arange(9).reshape(3,3)\n",
    "print(matrix)"
   ]
  },
  {
   "cell_type": "markdown",
   "id": "4f7637c5",
   "metadata": {},
   "source": [
    "#### 10. Find indices of non-zero elements from [1,2,0,0,4,0] (★☆☆)"
   ]
  },
  {
   "cell_type": "code",
   "execution_count": 18,
   "id": "c6dc62af",
   "metadata": {},
   "outputs": [
    {
     "name": "stdout",
     "output_type": "stream",
     "text": [
      "[0 1 4]\n"
     ]
    }
   ],
   "source": [
    "arr=np.array([1,2,0,0,4,0])\n",
    "indices=np.nonzero(arr)\n",
    "\n",
    "print(indices[0])"
   ]
  },
  {
   "cell_type": "markdown",
   "id": "b444666e",
   "metadata": {},
   "source": [
    "#### 11. Create a 3x3 identity matrix (★☆☆)"
   ]
  },
  {
   "cell_type": "code",
   "execution_count": 19,
   "id": "0c53665c",
   "metadata": {},
   "outputs": [
    {
     "name": "stdout",
     "output_type": "stream",
     "text": [
      "[[1. 0. 0.]\n",
      " [0. 1. 0.]\n",
      " [0. 0. 1.]]\n"
     ]
    }
   ],
   "source": [
    "# Create a 3x3 identity matrix \n",
    "identity_matrix=np.eye(3)\n",
    "print(identity_matrix)"
   ]
  },
  {
   "cell_type": "markdown",
   "id": "1a245d38",
   "metadata": {},
   "source": [
    "#### 12. Create a 3x3x3 array with random values (★☆☆)"
   ]
  },
  {
   "cell_type": "code",
   "execution_count": 20,
   "id": "7a53976f",
   "metadata": {},
   "outputs": [
    {
     "data": {
      "text/plain": [
       "array([[[0.59562096, 0.54003493, 0.67519453],\n",
       "        [0.58236148, 0.38592748, 0.45721954],\n",
       "        [0.43627519, 0.11312016, 0.40905859]],\n",
       "\n",
       "       [[0.01448611, 0.70586977, 0.8215701 ],\n",
       "        [0.90034266, 0.4929213 , 0.13711255],\n",
       "        [0.14849068, 0.36291511, 0.57178062]],\n",
       "\n",
       "       [[0.08596971, 0.62532644, 0.05357819],\n",
       "        [0.32349328, 0.515001  , 0.22983041],\n",
       "        [0.06685098, 0.00742902, 0.40050091]]])"
      ]
     },
     "execution_count": 20,
     "metadata": {},
     "output_type": "execute_result"
    }
   ],
   "source": [
    "random_array=np.random.random((3,3,3))\n",
    "random_array"
   ]
  },
  {
   "cell_type": "markdown",
   "id": "70634a5e",
   "metadata": {},
   "source": [
    "#### 13. Create a 10x10 array with random values and find the minimum and maximum values (★☆☆)"
   ]
  },
  {
   "cell_type": "code",
   "execution_count": 23,
   "id": "cdbee509",
   "metadata": {},
   "outputs": [
    {
     "name": "stdout",
     "output_type": "stream",
     "text": [
      "10x10 Random Array:/n [[0.83657242 0.65078684 0.97644508 0.16208057 0.65215753 0.7506687\n",
      "  0.76484544 0.81318576 0.28205791 0.43692242]\n",
      " [0.78007585 0.39966614 0.04351495 0.39874725 0.05217427 0.17491387\n",
      "  0.86176255 0.2062847  0.58292705 0.90471275]\n",
      " [0.51069269 0.76636824 0.7207454  0.07151818 0.20765235 0.82423795\n",
      "  0.46852531 0.94593149 0.57921849 0.41784236]\n",
      " [0.96706371 0.16664306 0.41383444 0.72622141 0.63421954 0.48420481\n",
      "  0.28003344 0.89497529 0.73118728 0.9011527 ]\n",
      " [0.14225477 0.55003248 0.59051454 0.54420784 0.17398126 0.77996338\n",
      "  0.06294559 0.40305865 0.97489789 0.85317616]\n",
      " [0.4394919  0.25978699 0.97098414 0.4781055  0.04889584 0.01573089\n",
      "  0.9795935  0.86735314 0.28163265 0.31031015]\n",
      " [0.31250477 0.79963105 0.67933898 0.67025497 0.8350864  0.72719634\n",
      "  0.14319358 0.37607457 0.57305988 0.85943075]\n",
      " [0.05473068 0.09310648 0.89033094 0.20845491 0.89884022 0.52365849\n",
      "  0.64131748 0.87094404 0.00428586 0.62640582]\n",
      " [0.60871005 0.91570225 0.94596988 0.18865477 0.91330872 0.00225751\n",
      "  0.63234834 0.84264557 0.30524932 0.39171999]\n",
      " [0.63456002 0.22944917 0.04274446 0.14035369 0.65928243 0.0595008\n",
      "  0.0973565  0.78512805 0.56263604 0.81802617]]\n",
      "/nMinimum Value: 0.0022575075078931084\n",
      "/nMaximum: 0.979593495698324\n"
     ]
    }
   ],
   "source": [
    "# create a 10x10  array with random values between 0 and 1\n",
    "array=np.random.random((10,10))\n",
    "\n",
    "# Find the minimum and maximum values\n",
    "min_val=array.min()\n",
    "max_val=array.max()\n",
    "\n",
    "print(\"10x10 Random Array:/n\",array)\n",
    "print(\"/nMinimum Value:\", min_val)\n",
    "print(\"/nMaximum:\" ,max_val)"
   ]
  },
  {
   "cell_type": "markdown",
   "id": "90ed6f2f",
   "metadata": {},
   "source": [
    "#### 14. Create a random vector of size 30 and find the mean value (★☆☆)"
   ]
  },
  {
   "cell_type": "code",
   "execution_count": 24,
   "id": "435a0a6d",
   "metadata": {},
   "outputs": [
    {
     "name": "stdout",
     "output_type": "stream",
     "text": [
      "Random Vector:\n",
      " [10 11 12 13 14 15 16 17 18 19 20 21 22 23 24 25 26 27 28 29 30 31 32 33\n",
      " 34 35 36 37 38 39 40 41 42 43 44 45 46 47 48 49]\n",
      "\n",
      "Mean Vector: 29.5\n"
     ]
    }
   ],
   "source": [
    "random_vect=np.random.rand(30)\n",
    "mean_value=vector.mean()\n",
    "print(\"Random Vector:\\n\", vector)\n",
    "print(\"\\nMean Vector:\", mean_value)"
   ]
  },
  {
   "cell_type": "markdown",
   "id": "f68de4bc",
   "metadata": {},
   "source": [
    "#### 15. Create a 2d array with 1 on the border and 0 inside (★☆☆)"
   ]
  },
  {
   "cell_type": "code",
   "execution_count": 26,
   "id": "6373089a",
   "metadata": {},
   "outputs": [
    {
     "name": "stdout",
     "output_type": "stream",
     "text": [
      "2D Array with Border 1s and inside 0s:\n",
      " [[1. 1. 1. 1. 1.]\n",
      " [1. 0. 0. 0. 1.]\n",
      " [1. 0. 0. 0. 1.]\n",
      " [1. 0. 0. 0. 1.]\n",
      " [1. 1. 1. 1. 1.]]\n"
     ]
    }
   ],
   "source": [
    "array_2d=np.ones((5,5)) #create a 5x5 array of ones\n",
    "array_2d[1:-1, 1:-1]=0 # set inner element to zero\n",
    "print(\"2D Array with Border 1s and inside 0s:\\n\", array_2d)"
   ]
  },
  {
   "cell_type": "markdown",
   "id": "ab8abb32",
   "metadata": {},
   "source": [
    "#### 16. How to add a border (filled with 0's) around an existing array? (★☆☆)\n"
   ]
  },
  {
   "cell_type": "code",
   "execution_count": 27,
   "id": "a9c6710d",
   "metadata": {},
   "outputs": [
    {
     "name": "stdout",
     "output_type": "stream",
     "text": [
      "Original Array:\n",
      " [[1. 1. 1. 1. 1.]\n",
      " [1. 1. 1. 1. 1.]\n",
      " [1. 1. 1. 1. 1.]\n",
      " [1. 1. 1. 1. 1.]\n",
      " [1. 1. 1. 1. 1.]]\n",
      "\n",
      "Array with Border of 0's:\n",
      " [[0. 0. 0. 0. 0. 0. 0.]\n",
      " [0. 1. 1. 1. 1. 1. 0.]\n",
      " [0. 1. 1. 1. 1. 1. 0.]\n",
      " [0. 1. 1. 1. 1. 1. 0.]\n",
      " [0. 1. 1. 1. 1. 1. 0.]\n",
      " [0. 1. 1. 1. 1. 1. 0.]\n",
      " [0. 0. 0. 0. 0. 0. 0.]]\n"
     ]
    }
   ],
   "source": [
    "original_array=np.ones((5,5))\n",
    "\n",
    "border_array=np.pad(original_array, pad_width=1, mode='constant',\n",
    "                    constant_values=0)\n",
    "print(\"Original Array:\\n\",original_array)\n",
    "print(\"\\nArray with Border of 0's:\\n\", border_array)"
   ]
  },
  {
   "cell_type": "markdown",
   "id": "47604c81",
   "metadata": {},
   "source": [
    "#### 17. What is the result of the following expression? (★☆☆)\n",
    "```python\n",
    "0 * np.nan\n",
    "np.nan == np.nan\n",
    "np.inf > np.nan\n",
    "np.nan - np.nan\n",
    "np.nan in set([np.nan])\n",
    "0.3 == 3 * 0.1\n",
    "```"
   ]
  },
  {
   "cell_type": "code",
   "execution_count": null,
   "id": "929d14db",
   "metadata": {},
   "outputs": [
    {
     "data": {
      "text/plain": [
       "False"
      ]
     },
     "execution_count": 28,
     "metadata": {},
     "output_type": "execute_result"
    }
   ],
   "source": [
    "## result of the following expression\n",
    "0 * np.nan\n",
    "np.nan == np.nan\n",
    "np.inf > np.nan\n",
    "np.nan - np.nan\n",
    "np.nan in set([np.nan])\n",
    "0.3 == 3 * 0.1"
   ]
  },
  {
   "cell_type": "markdown",
   "id": "fe8560f5",
   "metadata": {},
   "source": [
    "#### 18. Create a 5x5 matrix with values 1,2,3,4 just below the diagonal (★☆☆)"
   ]
  },
  {
   "cell_type": "code",
   "execution_count": 29,
   "id": "54b4d396",
   "metadata": {},
   "outputs": [
    {
     "name": "stdout",
     "output_type": "stream",
     "text": [
      "Matrix With value below diagonal:\n",
      " [[0 0 0 0 0]\n",
      " [1 0 0 0 0]\n",
      " [0 2 0 0 0]\n",
      " [0 0 3 0 0]\n",
      " [0 0 0 4 0]]\n"
     ]
    }
   ],
   "source": [
    "matrix=np.diag([1,2,3,4], k=-1)\n",
    "print(\"Matrix With value below diagonal:\\n\", matrix)"
   ]
  },
  {
   "cell_type": "markdown",
   "id": "41f29cf7",
   "metadata": {},
   "source": [
    "#### 19. Create a 8x8 matrix and fill it with a checkerboard pattern (★☆☆)"
   ]
  },
  {
   "cell_type": "code",
   "execution_count": 31,
   "id": "e138d1ab",
   "metadata": {},
   "outputs": [
    {
     "name": "stdout",
     "output_type": "stream",
     "text": [
      "Checkerboard pattern:\n",
      " [[0 0 0 0 0 0 0 0]\n",
      " [1 0 1 0 1 0 1 0]\n",
      " [0 0 0 0 0 0 0 0]\n",
      " [1 0 1 0 1 0 1 0]\n",
      " [0 0 0 0 0 0 0 0]\n",
      " [1 0 1 0 1 0 1 0]\n",
      " [0 0 0 0 0 0 0 0]\n",
      " [1 0 1 0 1 0 1 0]]\n"
     ]
    }
   ],
   "source": [
    "checkerboard=np.zeros((8,8), dtype=int)\n",
    "checkerboard[1::2, ::2]=1\n",
    "checkerboard[::2, 1::2]\n",
    "print(\"Checkerboard pattern:\\n\",checkerboard)"
   ]
  },
  {
   "cell_type": "markdown",
   "id": "3211ab3c",
   "metadata": {},
   "source": [
    "#### 20. Consider a (6,7,8) shape array, what is the index (x,y,z) of the 100th element? (★☆☆)"
   ]
  },
  {
   "cell_type": "code",
   "execution_count": 32,
   "id": "e5fb11bd",
   "metadata": {},
   "outputs": [
    {
     "name": "stdout",
     "output_type": "stream",
     "text": [
      "Index of 100th element: (np.int64(1), np.int64(5), np.int64(4))\n"
     ]
    }
   ],
   "source": [
    "array=np.zeros((6,7,8))\n",
    "index=np.unravel_index(100, array.shape)\n",
    "print(\"Index of 100th element:\",index)"
   ]
  },
  {
   "cell_type": "markdown",
   "id": "ef0a3f87",
   "metadata": {},
   "source": [
    "#### 21. Create a checkerboard 8x8 matrix using the tile function (★☆☆)"
   ]
  },
  {
   "cell_type": "code",
   "execution_count": 33,
   "id": "9240d756",
   "metadata": {},
   "outputs": [
    {
     "name": "stdout",
     "output_type": "stream",
     "text": [
      "checkerboard using tile:\n",
      " [[0 1 0 1 0 1 0 1]\n",
      " [1 0 1 0 1 0 1 0]\n",
      " [0 1 0 1 0 1 0 1]\n",
      " [1 0 1 0 1 0 1 0]\n",
      " [0 1 0 1 0 1 0 1]\n",
      " [1 0 1 0 1 0 1 0]\n",
      " [0 1 0 1 0 1 0 1]\n",
      " [1 0 1 0 1 0 1 0]]\n"
     ]
    }
   ],
   "source": [
    "pattern=np.array([[0,1],[1,0]])\n",
    "checkerboard_tile=np.tile(pattern,(4,4))\n",
    "print(\"checkerboard using tile:\\n\", checkerboard_tile)"
   ]
  },
  {
   "cell_type": "markdown",
   "id": "05eb700f",
   "metadata": {},
   "source": [
    "#### 22. Normalize a 5x5 random matrix (★☆☆)"
   ]
  },
  {
   "cell_type": "code",
   "execution_count": 36,
   "id": "128fa223",
   "metadata": {},
   "outputs": [
    {
     "name": "stdout",
     "output_type": "stream",
     "text": [
      "Normalized matrix:\n",
      " [[0.99212618 0.67236925 0.29534704 0.3262724  0.621775  ]\n",
      " [0.89725495 0.14249224 0.59282734 0.4381219  0.        ]\n",
      " [0.4541723  0.13333952 0.1828922  0.43117611 0.87735303]\n",
      " [0.47206026 0.95113867 0.99511711 0.68844177 1.        ]\n",
      " [0.28199156 0.53374934 0.25362076 0.31719897 0.83235098]]\n"
     ]
    }
   ],
   "source": [
    "random_matrix=np.random.rand(5,5)\n",
    "normalized=(random_matrix-np.min(random_matrix))/(np.max(random_matrix)-np.min(random_matrix))\n",
    "print(\"Normalized matrix:\\n\", normalized)\n"
   ]
  },
  {
   "cell_type": "markdown",
   "id": "b85ec5fd",
   "metadata": {},
   "source": [
    "#### 23. Create a custom dtype that describes a color as four unsigned bytes (RGBA) (★☆☆)\n"
   ]
  },
  {
   "cell_type": "code",
   "execution_count": 38,
   "id": "9c23a9ea",
   "metadata": {},
   "outputs": [
    {
     "name": "stdout",
     "output_type": "stream",
     "text": [
      "Custom RGBA dtype:\n",
      " (255, 0, 0, 255)\n"
     ]
    }
   ],
   "source": [
    "rgba_dtype=np.dtype([('r', np.ubyte), ('g', np.ubyte),('b',np.ubyte), ('a',np.ubyte)])\n",
    "color=np.array((255,0,0,255),dtype=rgba_dtype)\n",
    "print(\"Custom RGBA dtype:\\n\", color)"
   ]
  },
  {
   "cell_type": "markdown",
   "id": "4076191e",
   "metadata": {},
   "source": [
    "#### 24. Multiply a 5x3 matrix by a 3x2 matrix (real matrix product) (★☆☆)"
   ]
  },
  {
   "cell_type": "code",
   "execution_count": 40,
   "id": "5b4c2144",
   "metadata": {},
   "outputs": [
    {
     "name": "stdout",
     "output_type": "stream",
     "text": [
      "Product of 5x3 and 3x2 matrix:\n",
      " [[0.56218481 0.66897007]\n",
      " [1.04608062 0.84071092]\n",
      " [0.62257424 0.75008163]\n",
      " [1.03879152 1.23907741]\n",
      " [0.78977087 0.90585078]]\n"
     ]
    }
   ],
   "source": [
    "A=np.random.rand(5,3)\n",
    "B=np.random.rand(3,2)\n",
    "product=np.dot(A,B)\n",
    "print(\"Product of 5x3 and 3x2 matrix:\\n\", product)"
   ]
  },
  {
   "cell_type": "markdown",
   "id": "39ca89c9",
   "metadata": {},
   "source": [
    "#### 25. Given a 1D array, negate all elements which are between 3 and 8, in place. (★☆☆)"
   ]
  },
  {
   "cell_type": "code",
   "execution_count": 41,
   "id": "297d7fc5",
   "metadata": {},
   "outputs": [
    {
     "name": "stdout",
     "output_type": "stream",
     "text": [
      "Modified array:\n",
      " [ 0  1  2  3 -4 -5 -6 -7  8  9 10]\n"
     ]
    }
   ],
   "source": [
    "arr=np.arange(11)\n",
    "arr[(arr > 3)& (arr <8)] *=-1\n",
    "print(\"Modified array:\\n\", arr)"
   ]
  },
  {
   "cell_type": "markdown",
   "id": "e8dfd7be",
   "metadata": {},
   "source": [
    "#### 26. What is the output of the following script? (★☆☆)\n",
    "```python\n",
    "# Author: Jake VanderPlas\n",
    "\n",
    "print(sum(range(5),-1))\n",
    "from numpy import *\n",
    "print(sum(range(5),-1))\n",
    "```"
   ]
  },
  {
   "cell_type": "code",
   "execution_count": 42,
   "id": "ba6e9037",
   "metadata": {},
   "outputs": [
    {
     "name": "stdout",
     "output_type": "stream",
     "text": [
      "9\n",
      "10\n"
     ]
    }
   ],
   "source": [
    "print(sum(range(5),-1))\n",
    "from numpy import *\n",
    "print(sum(range(5),-1))\n"
   ]
  },
  {
   "cell_type": "markdown",
   "id": "0dd3eeab",
   "metadata": {},
   "source": [
    "#### 27. Consider an integer vector Z, which of these expressions are legal? (★☆☆)\n",
    "```python\n",
    "Z**Z\n",
    "2 << Z >> 2\n",
    "Z <- Z\n",
    "1j*Z\n",
    "Z/1/1\n",
    "Z<Z>Z\n",
    "```"
   ]
  },
  {
   "cell_type": "code",
   "execution_count": null,
   "id": "c6ded6b1",
   "metadata": {},
   "outputs": [],
   "source": [
    "Z**Z\n",
    "2 << Z >> 2\n",
    "Z <- Z\n",
    "1j*Z\n",
    "Z/1/1\n",
    "Z<Z>Z"
   ]
  },
  {
   "cell_type": "markdown",
   "id": "b7198d4f",
   "metadata": {},
   "source": [
    "#### 28. What are the result of the following expressions? (★☆☆)\n",
    "```python\n",
    "np.array(0) / np.array(0)\n",
    "np.array(0) // np.array(0)\n",
    "np.array([np.nan]).astype(int).astype(float)\n",
    "```"
   ]
  },
  {
   "cell_type": "code",
   "execution_count": 43,
   "id": "be8cea33",
   "metadata": {},
   "outputs": [
    {
     "name": "stderr",
     "output_type": "stream",
     "text": [
      "C:\\Users\\MINE\\AppData\\Local\\Temp\\ipykernel_19888\\1729466501.py:1: RuntimeWarning: invalid value encountered in divide\n",
      "  np.array(0) / np.array(0)\n",
      "C:\\Users\\MINE\\AppData\\Local\\Temp\\ipykernel_19888\\1729466501.py:2: RuntimeWarning: divide by zero encountered in floor_divide\n",
      "  np.array(0) // np.array(0)\n",
      "C:\\Users\\MINE\\AppData\\Local\\Temp\\ipykernel_19888\\1729466501.py:3: RuntimeWarning: invalid value encountered in cast\n",
      "  np.array([np.nan]).astype(int).astype(float)\n"
     ]
    },
    {
     "data": {
      "text/plain": [
       "array([-9.22337204e+18])"
      ]
     },
     "execution_count": 43,
     "metadata": {},
     "output_type": "execute_result"
    }
   ],
   "source": [
    "np.array(0) / np.array(0)\n",
    "np.array(0) // np.array(0)\n",
    "np.array([np.nan]).astype(int).astype(float)\n"
   ]
  },
  {
   "cell_type": "markdown",
   "id": "13e302c6",
   "metadata": {},
   "source": [
    "#### 29. How to round away from zero a float array ? (★☆☆)"
   ]
  },
  {
   "cell_type": "code",
   "execution_count": 45,
   "id": "1d565135",
   "metadata": {},
   "outputs": [
    {
     "name": "stdout",
     "output_type": "stream",
     "text": [
      "[ 2. -2.  3. -3.]\n"
     ]
    }
   ],
   "source": [
    "Z=np.array([1.2, -1.7, 2.5, -2.3])\n",
    "rounded=np.copysign(np.ceil(np.abs(Z)),Z)\n",
    "print(rounded)"
   ]
  },
  {
   "cell_type": "markdown",
   "id": "10fca4a3",
   "metadata": {},
   "source": [
    "#### 30. How to find common values between two arrays? (★☆☆)"
   ]
  },
  {
   "cell_type": "code",
   "execution_count": 46,
   "id": "8ff13937",
   "metadata": {},
   "outputs": [
    {
     "name": "stdout",
     "output_type": "stream",
     "text": [
      "[3 4]\n"
     ]
    }
   ],
   "source": [
    "a=np.array([1,2,3,4])\n",
    "b=np.array([3,4,5,6])\n",
    "common_val=np.intersect1d(a,b)\n",
    "print(common_val)"
   ]
  },
  {
   "cell_type": "markdown",
   "id": "caa9d0f0",
   "metadata": {},
   "source": [
    "#### 31. How to ignore all numpy warnings (not recommended)? (★☆☆)\n"
   ]
  },
  {
   "cell_type": "code",
   "execution_count": 64,
   "id": "65c61eba",
   "metadata": {},
   "outputs": [
    {
     "data": {
      "text/plain": [
       "{'divide': 'ignore', 'over': 'ignore', 'under': 'ignore', 'invalid': 'ignore'}"
      ]
     },
     "execution_count": 64,
     "metadata": {},
     "output_type": "execute_result"
    }
   ],
   "source": [
    "import warnings\n",
    "\n",
    "#ignore all warnings\n",
    "warnings.filterwarnings('ignore')\n",
    "np.seterr(all='ignore')"
   ]
  },
  {
   "cell_type": "markdown",
   "id": "4e988d2f",
   "metadata": {},
   "source": [
    "#### 32. Is the following expressions true? (★☆☆)\n",
    "```python\n",
    "np.sqrt(-1) == np.emath.sqrt(-1)\n",
    "```"
   ]
  },
  {
   "cell_type": "code",
   "execution_count": 49,
   "id": "cb75ec1b",
   "metadata": {},
   "outputs": [
    {
     "data": {
      "text/plain": [
       "np.False_"
      ]
     },
     "execution_count": 49,
     "metadata": {},
     "output_type": "execute_result"
    }
   ],
   "source": [
    "np.sqrt(-1) == np.emath.sqrt(-1)\n"
   ]
  },
  {
   "cell_type": "code",
   "execution_count": null,
   "id": "528ca171",
   "metadata": {},
   "outputs": [
    {
     "name": "stdout",
     "output_type": "stream",
     "text": [
      "nan\n",
      "1j\n",
      "False\n"
     ]
    }
   ],
   "source": [
    "print(np.sqrt(-1)) #nan\n",
    "print(np.emath.sqrt(-1))  #ij\n",
    "print(np.sqrt(-1)==np.emath.sqrt(-1))  #false"
   ]
  },
  {
   "cell_type": "markdown",
   "id": "53e28bec",
   "metadata": {},
   "source": [
    "#### 33. How to get the dates of yesterday, today and tomorrow? (★☆☆)\n",
    "\n"
   ]
  },
  {
   "cell_type": "code",
   "execution_count": 53,
   "id": "80aba2de",
   "metadata": {},
   "outputs": [
    {
     "name": "stdout",
     "output_type": "stream",
     "text": [
      "Yesterday: 2025-06-25\n",
      "Today: 2025-06-26\n",
      "Tomorrow: 2025-06-27\n"
     ]
    }
   ],
   "source": [
    "import datetime\n",
    "today=np.datetime64('today' , 'D')\n",
    "yesterday=today - np.timedelta64(1, 'D')\n",
    "tomorrow=today + np.timedelta64(1, 'D')\n",
    "\n",
    "print(\"Yesterday:\", yesterday)\n",
    "print(\"Today:\", today)\n",
    "print(\"Tomorrow:\", tomorrow)"
   ]
  },
  {
   "cell_type": "markdown",
   "id": "d8ba3b1b",
   "metadata": {},
   "source": [
    "#### 34. How to get all the dates corresponding to the month of July 2016? (★★☆)"
   ]
  },
  {
   "cell_type": "code",
   "execution_count": 54,
   "id": "5819630e",
   "metadata": {},
   "outputs": [
    {
     "name": "stdout",
     "output_type": "stream",
     "text": [
      "['2016-07-01' '2016-07-02' '2016-07-03' '2016-07-04' '2016-07-05'\n",
      " '2016-07-06' '2016-07-07' '2016-07-08' '2016-07-09' '2016-07-10'\n",
      " '2016-07-11' '2016-07-12' '2016-07-13' '2016-07-14' '2016-07-15'\n",
      " '2016-07-16' '2016-07-17' '2016-07-18' '2016-07-19' '2016-07-20'\n",
      " '2016-07-21' '2016-07-22' '2016-07-23' '2016-07-24' '2016-07-25'\n",
      " '2016-07-26' '2016-07-27' '2016-07-28' '2016-07-29' '2016-07-30'\n",
      " '2016-07-31']\n"
     ]
    }
   ],
   "source": [
    "july_2016=np.arange('2016-07','2016-08', dtype='datetime64[D]')\n",
    "print(july_2016)"
   ]
  },
  {
   "cell_type": "markdown",
   "id": "337e70f0",
   "metadata": {},
   "source": [
    "#### 35. How to compute ((A+B)*(-A/2)) in place (without copy)? (★★☆)"
   ]
  },
  {
   "cell_type": "code",
   "execution_count": null,
   "id": "223b7fa4",
   "metadata": {},
   "outputs": [
    {
     "name": "stdout",
     "output_type": "stream",
     "text": [
      "[-1.5 -1.5 -1.5]\n"
     ]
    }
   ],
   "source": [
    "A=np.ones(3)\n",
    "B=np.ones(3)*2\n",
    "\n",
    "# In-place computation\n",
    "A+=B          # A =A + B\n",
    "A*= -0.5       # A = A* (-A/2)\n",
    "print(A)\n"
   ]
  },
  {
   "cell_type": "markdown",
   "id": "d397ddf6",
   "metadata": {},
   "source": [
    "#### 36. Extract the integer part of a random array of positive numbers using 4 different methods (★★☆)"
   ]
  },
  {
   "cell_type": "code",
   "execution_count": 57,
   "id": "a31cd6b8",
   "metadata": {},
   "outputs": [
    {
     "name": "stdout",
     "output_type": "stream",
     "text": [
      "Original: [6.55623158 8.94041683 5.04549712 7.43883273 7.12779521]\n",
      "Method 1: [6 8 5 7 7]\n",
      "Method 2: <module 'numpy' from 'c:\\\\Users\\\\MINE\\\\anaconda3\\\\envs\\\\arewads\\\\lib\\\\site-packages\\\\numpy\\\\__init__.py'> [6. 8. 5. 7. 7.]\n",
      "Method 3: [6. 8. 5. 7. 7.]\n",
      "Method 4: [6. 8. 5. 7. 7.]\n"
     ]
    }
   ],
   "source": [
    "Z=np.random.uniform(0,10,5)\n",
    "\n",
    "print(\"Original:\", Z)\n",
    "print(\"Method 1:\", Z.astype(int))\n",
    "print(\"Method 2:\", np,floor(Z))\n",
    "print(\"Method 3:\", np.trunc(Z))\n",
    "print(\"Method 4:\", np.fix(Z))"
   ]
  },
  {
   "cell_type": "markdown",
   "id": "78179c18",
   "metadata": {},
   "source": [
    "#### 37. Create a 5x5 matrix with row values ranging from 0 to 4 (★★☆)"
   ]
  },
  {
   "cell_type": "code",
   "execution_count": 58,
   "id": "b252a699",
   "metadata": {},
   "outputs": [
    {
     "name": "stdout",
     "output_type": "stream",
     "text": [
      "[[0. 1. 2. 3. 4.]\n",
      " [0. 1. 2. 3. 4.]\n",
      " [0. 1. 2. 3. 4.]\n",
      " [0. 1. 2. 3. 4.]\n",
      " [0. 1. 2. 3. 4.]]\n"
     ]
    }
   ],
   "source": [
    "Z=np.zeros((5,5))\n",
    "Z +=np.arange(5)\n",
    "print(Z)"
   ]
  },
  {
   "cell_type": "markdown",
   "id": "aa43aa82",
   "metadata": {},
   "source": [
    "#### 38. Consider a generator function that generates 10 integers and use it to build an array (★☆☆)"
   ]
  },
  {
   "cell_type": "code",
   "execution_count": 60,
   "id": "6e79715f",
   "metadata": {},
   "outputs": [],
   "source": [
    "def generate():\n",
    "    for i in range(10):\n",
    "        yield i\n",
    "\n",
    "    Z=np.fromiter(generate(), dtype=int)\n",
    "    print(Z)"
   ]
  },
  {
   "cell_type": "markdown",
   "id": "96e9f5f3",
   "metadata": {},
   "source": [
    "#### 39. Create a vector of size 10 with values ranging from 0 to 1, both excluded (★★☆)\n"
   ]
  },
  {
   "cell_type": "code",
   "execution_count": 62,
   "id": "8246a7e4",
   "metadata": {},
   "outputs": [
    {
     "name": "stdout",
     "output_type": "stream",
     "text": [
      "[0.09090909 0.18181818 0.27272727 0.36363636 0.45454545 0.54545455\n",
      " 0.63636364 0.72727273 0.81818182 0.90909091]\n"
     ]
    }
   ],
   "source": [
    "Z=np.linspace(0, 1, 12, endpoint=True)[1:-1]\n",
    "print(Z)"
   ]
  },
  {
   "cell_type": "markdown",
   "id": "000fe365",
   "metadata": {},
   "source": [
    "#### 40. Create a random vector of size 10 and sort it (★★☆)"
   ]
  },
  {
   "cell_type": "code",
   "execution_count": null,
   "id": "f30a7524",
   "metadata": {},
   "outputs": [
    {
     "data": {
      "text/plain": [
       "array([0.09366044, 0.11794672, 0.15948991, 0.17976846, 0.23664425,\n",
       "       0.32377263, 0.40162397, 0.73350119, 0.83922317, 0.91212836])"
      ]
     },
     "execution_count": 63,
     "metadata": {},
     "output_type": "execute_result"
    }
   ],
   "source": [
    "Z=np.random.rand(10)\n",
    "Z.sort()   #sort in ascending order\n",
    "Z"
   ]
  }
 ],
 "metadata": {
  "kernelspec": {
   "display_name": "arewads",
   "language": "python",
   "name": "python3"
  },
  "language_info": {
   "codemirror_mode": {
    "name": "ipython",
    "version": 3
   },
   "file_extension": ".py",
   "mimetype": "text/x-python",
   "name": "python",
   "nbconvert_exporter": "python",
   "pygments_lexer": "ipython3",
   "version": "3.10.16"
  }
 },
 "nbformat": 4,
 "nbformat_minor": 5
}
